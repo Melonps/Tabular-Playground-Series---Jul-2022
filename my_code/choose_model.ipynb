{
 "cells": [
  {
   "cell_type": "code",
   "execution_count": 1,
   "metadata": {},
   "outputs": [
    {
     "data": {
      "text/html": [
       "<style type='text/css'>\n",
       ".datatable table.frame { margin-bottom: 0; }\n",
       ".datatable table.frame thead { border-bottom: none; }\n",
       ".datatable table.frame tr.coltypes td {  color: #FFFFFF;  line-height: 6px;  padding: 0 0.5em;}\n",
       ".datatable .bool    { background: #DDDD99; }\n",
       ".datatable .object  { background: #565656; }\n",
       ".datatable .int     { background: #5D9E5D; }\n",
       ".datatable .float   { background: #4040CC; }\n",
       ".datatable .str     { background: #CC4040; }\n",
       ".datatable .time    { background: #40CC40; }\n",
       ".datatable .row_index {  background: var(--jp-border-color3);  border-right: 1px solid var(--jp-border-color0);  color: var(--jp-ui-font-color3);  font-size: 9px;}\n",
       ".datatable .frame tbody td { text-align: left; }\n",
       ".datatable .frame tr.coltypes .row_index {  background: var(--jp-border-color0);}\n",
       ".datatable th:nth-child(2) { padding-left: 12px; }\n",
       ".datatable .hellipsis {  color: var(--jp-cell-editor-border-color);}\n",
       ".datatable .vellipsis {  background: var(--jp-layout-color0);  color: var(--jp-cell-editor-border-color);}\n",
       ".datatable .na {  color: var(--jp-cell-editor-border-color);  font-size: 80%;}\n",
       ".datatable .sp {  opacity: 0.25;}\n",
       ".datatable .footer { font-size: 9px; }\n",
       ".datatable .frame_dimensions {  background: var(--jp-border-color3);  border-top: 1px solid var(--jp-border-color0);  color: var(--jp-ui-font-color3);  display: inline-block;  opacity: 0.6;  padding: 1px 10px 1px 5px;}\n",
       "</style>\n"
      ],
      "text/plain": [
       "<IPython.core.display.HTML object>"
      ]
     },
     "metadata": {},
     "output_type": "display_data"
    }
   ],
   "source": [
    "import numpy as np # linear algebra\n",
    "import pandas as pd # data processing, CSV file I/O (e.g. pd.read_csv)\n",
    "from sklearn.preprocessing import RobustScaler,PowerTransformer\n",
    "from sklearn.mixture import BayesianGaussianMixture,GaussianMixture\n",
    "from sklearn.metrics import confusion_matrix, silhouette_score, calinski_harabasz_score, davies_bouldin_score,balanced_accuracy_score, roc_auc_score\n",
    "from sklearn.model_selection import StratifiedKFold\n",
    "import seaborn as sns\n",
    "from matplotlib import pyplot as plt\n",
    "import lightgbm as lgb\n",
    "from sklearn.discriminant_analysis import QuadraticDiscriminantAnalysis"
   ]
  },
  {
   "cell_type": "code",
   "execution_count": 2,
   "metadata": {},
   "outputs": [],
   "source": [
    "data=pd.read_csv(\"../data/data.csv\")\n",
    "data=data.drop(\"id\",axis=1)\n",
    "ss=pd.read_csv(\"../data/sample_submission.csv\")"
   ]
  },
  {
   "cell_type": "code",
   "execution_count": 3,
   "metadata": {},
   "outputs": [],
   "source": [
    "best_data =['f_07','f_08', 'f_09', 'f_10','f_11', 'f_12', 'f_13', 'f_22','f_23', 'f_24', 'f_25','f_26','f_27', 'f_28']\n",
    "\n",
    "rob_scaler = RobustScaler().fit(data)\n",
    "power_transformer = PowerTransformer().fit(data)\n",
    "\n",
    "data_scaled = rob_scaler.fit_transform(data[best_data])\n",
    "data_scaled = power_transformer.fit_transform(data_scaled)\n",
    "train = pd.DataFrame(data_scaled, columns = best_data)"
   ]
  },
  {
   "cell_type": "code",
   "execution_count": 4,
   "metadata": {},
   "outputs": [],
   "source": [
    "BGM = BayesianGaussianMixture(n_components=7,covariance_type='full',random_state=1,n_init=5,tol=0.001,max_iter=400)\n",
    "# fit model and predict clusters\n",
    "preds = BGM.fit_predict(train)\n",
    "pp=BGM.predict_proba(train)"
   ]
  },
  {
   "cell_type": "code",
   "execution_count": 8,
   "metadata": {},
   "outputs": [
    {
     "name": "stdout",
     "output_type": "stream",
     "text": [
      "(69089, 14)\n",
      "(69089,)\n"
     ]
    }
   ],
   "source": [
    "train[[f'predict_proba_{i}' for i in range(7)]]=pp # creating new dataframe columns of probabilites \n",
    "train['predict_proba']=np.max(pp,axis=1)\n",
    "train['predict']=np.argmax(pp,axis=1)\n",
    "    \n",
    "trn_indx=np.array([])\n",
    "for n in range(7):\n",
    "    # using only those index whoose predicted probablity > 80\n",
    "    indx=train[(train.predict==n) & (train.predict_proba > 0.75)].index \n",
    "    trn_indx = np.concatenate((trn_indx, indx))\n",
    "    \n",
    "X = train.loc[trn_indx][best_data]\n",
    "y = train.loc[trn_indx]['predict']\n",
    "print(X.shape)\n",
    "print(y.shape)\n"
   ]
  },
  {
   "cell_type": "code",
   "execution_count": 9,
   "metadata": {},
   "outputs": [
    {
     "name": "stdout",
     "output_type": "stream",
     "text": [
      "Training until validation scores don't improve for 100 rounds\n",
      "[200]\tvalid_0's multi_logloss: 0.0567097\n",
      "[400]\tvalid_0's multi_logloss: 0.0260486\n",
      "[600]\tvalid_0's multi_logloss: 0.0178706\n",
      "[800]\tvalid_0's multi_logloss: 0.0153598\n",
      "[1000]\tvalid_0's multi_logloss: 0.0145647\n",
      "[1200]\tvalid_0's multi_logloss: 0.0142026\n",
      "[1400]\tvalid_0's multi_logloss: 0.0145183\n",
      "Early stopping, best iteration is:\n",
      "[1306]\tvalid_0's multi_logloss: 0.0141158\n",
      "LightGBM   AUC : 1.000 | Accuracy : 99.4%\n",
      "Training until validation scores don't improve for 100 rounds\n",
      "[200]\tvalid_0's multi_logloss: 0.0574437\n",
      "[400]\tvalid_0's multi_logloss: 0.0278214\n",
      "[600]\tvalid_0's multi_logloss: 0.0206027\n",
      "[800]\tvalid_0's multi_logloss: 0.0180547\n",
      "[1000]\tvalid_0's multi_logloss: 0.0173457\n",
      "Early stopping, best iteration is:\n",
      "[978]\tvalid_0's multi_logloss: 0.0172911\n",
      "LightGBM   AUC : 1.000 | Accuracy : 99.5%\n",
      "Training until validation scores don't improve for 100 rounds\n",
      "[200]\tvalid_0's multi_logloss: 0.0568598\n",
      "[400]\tvalid_0's multi_logloss: 0.0273409\n",
      "[600]\tvalid_0's multi_logloss: 0.0201046\n",
      "[800]\tvalid_0's multi_logloss: 0.0176546\n",
      "[1000]\tvalid_0's multi_logloss: 0.0168273\n",
      "[1200]\tvalid_0's multi_logloss: 0.0166312\n",
      "Early stopping, best iteration is:\n",
      "[1207]\tvalid_0's multi_logloss: 0.0165875\n",
      "LightGBM   AUC : 1.000 | Accuracy : 99.4%\n",
      "Training until validation scores don't improve for 100 rounds\n",
      "[200]\tvalid_0's multi_logloss: 0.0544091\n",
      "[400]\tvalid_0's multi_logloss: 0.0259719\n",
      "[600]\tvalid_0's multi_logloss: 0.019161\n",
      "[800]\tvalid_0's multi_logloss: 0.0171439\n",
      "[1000]\tvalid_0's multi_logloss: 0.0162225\n",
      "Early stopping, best iteration is:\n",
      "[999]\tvalid_0's multi_logloss: 0.0162121\n",
      "LightGBM   AUC : 1.000 | Accuracy : 99.4%\n",
      "Training until validation scores don't improve for 100 rounds\n",
      "[200]\tvalid_0's multi_logloss: 0.0526796\n",
      "[400]\tvalid_0's multi_logloss: 0.023811\n",
      "[600]\tvalid_0's multi_logloss: 0.0165064\n",
      "[800]\tvalid_0's multi_logloss: 0.0144278\n",
      "[1000]\tvalid_0's multi_logloss: 0.0138497\n",
      "[1200]\tvalid_0's multi_logloss: 0.0138225\n",
      "Early stopping, best iteration is:\n",
      "[1130]\tvalid_0's multi_logloss: 0.0137152\n",
      "LightGBM   AUC : 1.000 | Accuracy : 99.5%\n",
      "Training until validation scores don't improve for 100 rounds\n",
      "[200]\tvalid_0's multi_logloss: 0.0540598\n",
      "[400]\tvalid_0's multi_logloss: 0.0250563\n",
      "[600]\tvalid_0's multi_logloss: 0.0184579\n",
      "[800]\tvalid_0's multi_logloss: 0.0161548\n",
      "[1000]\tvalid_0's multi_logloss: 0.0155389\n",
      "Early stopping, best iteration is:\n",
      "[1018]\tvalid_0's multi_logloss: 0.0154483\n",
      "LightGBM   AUC : 1.000 | Accuracy : 99.3%\n",
      "Training until validation scores don't improve for 100 rounds\n",
      "[200]\tvalid_0's multi_logloss: 0.0528001\n",
      "[400]\tvalid_0's multi_logloss: 0.0236632\n",
      "[600]\tvalid_0's multi_logloss: 0.0166397\n",
      "[800]\tvalid_0's multi_logloss: 0.0140982\n",
      "[1000]\tvalid_0's multi_logloss: 0.0130525\n",
      "Early stopping, best iteration is:\n",
      "[1031]\tvalid_0's multi_logloss: 0.0130304\n",
      "LightGBM   AUC : 1.000 | Accuracy : 99.5%\n",
      "Training until validation scores don't improve for 100 rounds\n",
      "[200]\tvalid_0's multi_logloss: 0.0575357\n",
      "[400]\tvalid_0's multi_logloss: 0.0283446\n",
      "[600]\tvalid_0's multi_logloss: 0.0212059\n",
      "[800]\tvalid_0's multi_logloss: 0.0190134\n",
      "[1000]\tvalid_0's multi_logloss: 0.0180135\n",
      "Early stopping, best iteration is:\n",
      "[1028]\tvalid_0's multi_logloss: 0.017939\n",
      "LightGBM   AUC : 1.000 | Accuracy : 99.3%\n",
      "Training until validation scores don't improve for 100 rounds\n",
      "[200]\tvalid_0's multi_logloss: 0.0546317\n",
      "[400]\tvalid_0's multi_logloss: 0.0258387\n",
      "[600]\tvalid_0's multi_logloss: 0.0190053\n",
      "[800]\tvalid_0's multi_logloss: 0.0164004\n",
      "[1000]\tvalid_0's multi_logloss: 0.0156309\n",
      "Early stopping, best iteration is:\n",
      "[1076]\tvalid_0's multi_logloss: 0.0155717\n",
      "LightGBM   AUC : 1.000 | Accuracy : 99.3%\n",
      "Training until validation scores don't improve for 100 rounds\n",
      "[200]\tvalid_0's multi_logloss: 0.0548577\n",
      "[400]\tvalid_0's multi_logloss: 0.025865\n",
      "[600]\tvalid_0's multi_logloss: 0.0187862\n",
      "[800]\tvalid_0's multi_logloss: 0.0162718\n",
      "[1000]\tvalid_0's multi_logloss: 0.0154239\n",
      "[1200]\tvalid_0's multi_logloss: 0.0152263\n",
      "Early stopping, best iteration is:\n",
      "[1171]\tvalid_0's multi_logloss: 0.0151487\n",
      "LightGBM   AUC : 1.000 | Accuracy : 99.6%\n"
     ]
    },
    {
     "data": {
      "text/plain": [
       "balanced_accuracy_score    0.994286\n",
       "roc_auc_score              0.999968\n",
       "dtype: float64"
      ]
     },
     "execution_count": 9,
     "metadata": {},
     "output_type": "execute_result"
    }
   ],
   "source": [
    "params_lgb = {'learning_rate': 4e-2,'objective': 'multiclass','boosting': 'gbdt','verbosity': -1,'n_jobs': -1, 'num_classes':7,\n",
    "    'random_state': 42} \n",
    "\n",
    "lgbm_predict_proba = 0  \n",
    "ctb_predict_proba = 0\n",
    "qda_predict_proba = 0\n",
    "svc_predict_proba = 0\n",
    "\n",
    "classif_scores = []\n",
    "\n",
    "gkf = StratifiedKFold(10, shuffle=True, random_state = 1)\n",
    "for fold, (trn, val) in enumerate(gkf.split(X,y)):  \n",
    "    \n",
    "    X_train, y_train = X.iloc[trn], y.iloc[trn]\n",
    "    X_valid, y_valid = X.iloc[val], y.iloc[val]\n",
    "\n",
    "    X_trn = lgb.Dataset(X_train, y_train)\n",
    "    X_val = lgb.Dataset(X_valid, y_valid)\n",
    "    \n",
    "    model = lgb.train(params = params_lgb, \n",
    "                train_set = X_trn, valid_sets =  X_val, \n",
    "                num_boost_round = 5000, \n",
    "                callbacks = [ lgb.early_stopping(stopping_rounds=100, verbose=True), lgb.log_evaluation(period=200)])  \n",
    "    \n",
    "    y_pred_proba = model.predict(X.iloc[val])\n",
    "    y_pred = np.argmax(y_pred_proba, axis=1)\n",
    "    \n",
    "    s = (balanced_accuracy_score(y.iloc[val], y_pred),\n",
    "        roc_auc_score(y.iloc[val], y_pred_proba, average=\"weighted\", multi_class=\"ovo\"))\n",
    "    print(f\"LightGBM   AUC : {s[1]:.3f} | Accuracy : {s[0]:.1%}\")\n",
    "    classif_scores.append(s)\n",
    "\n",
    "    lgbm_predict_proba += model.predict(train[best_data]) / 10\n",
    "    \n",
    "    \n",
    "pd.DataFrame(classif_scores, columns = [\"balanced_accuracy_score\", \"roc_auc_score\"]).mean(0)"
   ]
  },
  {
   "cell_type": "code",
   "execution_count": 13,
   "metadata": {},
   "outputs": [
    {
     "name": "stdout",
     "output_type": "stream",
     "text": [
      "98000\n"
     ]
    }
   ],
   "source": [
    "print(len(lgbm_predict_proba))"
   ]
  },
  {
   "cell_type": "code",
   "execution_count": 11,
   "metadata": {},
   "outputs": [
    {
     "data": {
      "image/png": "[encoded data removed]",
      "text/plain": [
       "<Figure size 1080x360 with 1 Axes>"
      ]
     },
     "metadata": {
      "needs_background": "light"
     },
     "output_type": "display_data"
    }
   ],
   "source": [
    "ss.Predicted=np.argmax(lgbm_predict_proba,axis=1)\n",
    "ss.to_csv(\"submission_lgbm.csv\",index=False)\n",
    "\n",
    "plt.figure(figsize=(15,5))\n",
    "sns.countplot(x=ss.Predicted)\n",
    "plt.show()"
   ]
  },
  {
   "cell_type": "code",
   "execution_count": null,
   "metadata": {},
   "outputs": [],
   "source": []
  }
 ],
 "metadata": {
  "kernelspec": {
   "display_name": "Python 3.7.12 ('base')",
   "language": "python",
   "name": "python3"
  },
  "language_info": {
   "codemirror_mode": {
    "name": "ipython",
    "version": 3
   },
   "file_extension": ".py",
   "mimetype": "text/x-python",
   "name": "python",
   "nbconvert_exporter": "python",
   "pygments_lexer": "ipython3",
   "version": "3.7.12"
  },
  "orig_nbformat": 4,
  "vscode": {
   "interpreter": {
    "hash": "d4d1e4263499bec80672ea0156c357c1ee493ec2b1c70f0acce89fc37c4a6abe"
   }
  }
 },
 "nbformat": 4,
 "nbformat_minor": 2
}
