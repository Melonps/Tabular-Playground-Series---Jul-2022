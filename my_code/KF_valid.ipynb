{
 "cells": [
  {
   "cell_type": "code",
   "execution_count": 2,
   "metadata": {},
   "outputs": [
    {
     "ename": "ModuleNotFoundError",
     "evalue": "No module named 'numpy'",
     "output_type": "error",
     "traceback": [
      "\u001b[0;31m---------------------------------------------------------------------------\u001b[0m",
      "\u001b[0;31mModuleNotFoundError\u001b[0m                       Traceback (most recent call last)",
      "\u001b[1;32m/code/temp/my_code/KF_valid.ipynb Cell 1'\u001b[0m in \u001b[0;36m<cell line: 1>\u001b[0;34m()\u001b[0m\n\u001b[0;32m----> <a href='vscode-notebook-cell://attached-container%2B7b22636f6e7461696e65724e616d65223a222f6b6167676c655f74657374222c2273657474696e6773223a7b22686f7374223a227373683a2f2f6b616b656869406770753133227d7d/code/temp/my_code/KF_valid.ipynb#ch0000000vscode-remote?line=0'>1</a>\u001b[0m \u001b[39mimport\u001b[39;00m \u001b[39mnumpy\u001b[39;00m \u001b[39mas\u001b[39;00m \u001b[39mnp\u001b[39;00m\n\u001b[1;32m      <a href='vscode-notebook-cell://attached-container%2B7b22636f6e7461696e65724e616d65223a222f6b6167676c655f74657374222c2273657474696e6773223a7b22686f7374223a227373683a2f2f6b616b656869406770753133227d7d/code/temp/my_code/KF_valid.ipynb#ch0000000vscode-remote?line=1'>2</a>\u001b[0m \u001b[39mimport\u001b[39;00m \u001b[39mpandas\u001b[39;00m \u001b[39mas\u001b[39;00m \u001b[39mpd\u001b[39;00m\n\u001b[1;32m      <a href='vscode-notebook-cell://attached-container%2B7b22636f6e7461696e65724e616d65223a222f6b6167676c655f74657374222c2273657474696e6773223a7b22686f7374223a227373683a2f2f6b616b656869406770753133227d7d/code/temp/my_code/KF_valid.ipynb#ch0000000vscode-remote?line=2'>3</a>\u001b[0m \u001b[39mimport\u001b[39;00m \u001b[39mgc\u001b[39;00m\u001b[39m,\u001b[39m\u001b[39mrandom\u001b[39;00m\u001b[39m,\u001b[39m\u001b[39mos\u001b[39;00m\n",
      "\u001b[0;31mModuleNotFoundError\u001b[0m: No module named 'numpy'"
     ]
    }
   ],
   "source": [
    "import numpy as np\n",
    "import pandas as pd\n",
    "import gc,random,os\n",
    "from sklearn.preprocessing import PowerTransformer,MinMaxScaler\n",
    "from sklearn.model_selection import StratifiedKFold\n",
    "from sklearn.mixture import BayesianGaussianMixture\n",
    "from sklearn import metrics\n",
    "import lightgbm as lgb"
   ]
  },
  {
   "cell_type": "code",
   "execution_count": 3,
   "metadata": {},
   "outputs": [
    {
     "name": "stdout",
     "output_type": "stream",
     "text": [
      "Package             Version             \n",
      "------------------- --------------------\n",
      "asttokens           2.0.5               \n",
      "backcall            0.2.0               \n",
      "certifi             2019.11.28          \n",
      "chardet             3.0.4               \n",
      "dbus-python         1.2.16              \n",
      "debugpy             1.6.2               \n",
      "decorator           5.1.1               \n",
      "entrypoints         0.4                 \n",
      "executing           0.8.3               \n",
      "idna                2.8                 \n",
      "ipykernel           6.15.1              \n",
      "ipython             8.4.0               \n",
      "jedi                0.18.1              \n",
      "jupyter-client      7.3.4               \n",
      "jupyter-core        4.11.1              \n",
      "matplotlib-inline   0.1.3               \n",
      "nest-asyncio        1.5.5               \n",
      "packaging           21.3                \n",
      "parso               0.8.3               \n",
      "pexpect             4.8.0               \n",
      "pickleshare         0.7.5               \n",
      "pip                 20.0.2              \n",
      "prompt-toolkit      3.0.30              \n",
      "psutil              5.9.1               \n",
      "ptyprocess          0.7.0               \n",
      "pure-eval           0.2.2               \n",
      "Pygments            2.12.0              \n",
      "PyGObject           3.36.0              \n",
      "pyparsing           3.0.9               \n",
      "python-apt          2.0.0+ubuntu0.20.4.7\n",
      "python-dateutil     2.8.2               \n",
      "python-snappy       0.5.3               \n",
      "pyzmq               23.2.0              \n",
      "requests            2.22.0              \n",
      "requests-unixsocket 0.2.0               \n",
      "setuptools          63.1.0              \n",
      "six                 1.16.0              \n",
      "stack-data          0.3.0               \n",
      "tensorrt            8.2.5.1             \n",
      "tornado             6.2                 \n",
      "traitlets           5.3.0               \n",
      "urllib3             1.25.8              \n",
      "wcwidth             0.2.5               \n",
      "wheel               0.34.2              \n"
     ]
    }
   ],
   "source": [
    "!pip list"
   ]
  },
  {
   "cell_type": "code",
   "execution_count": null,
   "metadata": {},
   "outputs": [],
   "source": []
  }
 ],
 "metadata": {
  "kernelspec": {
   "display_name": "Python 3.8.10 64-bit",
   "language": "python",
   "name": "python3"
  },
  "language_info": {
   "codemirror_mode": {
    "name": "ipython",
    "version": 3
   },
   "file_extension": ".py",
   "mimetype": "text/x-python",
   "name": "python",
   "nbconvert_exporter": "python",
   "pygments_lexer": "ipython3",
   "version": "3.8.10"
  },
  "orig_nbformat": 4,
  "vscode": {
   "interpreter": {
    "hash": "916dbcbb3f70747c44a77c7bcd40155683ae19c65e1c03b4aa3499c5328201f1"
   }
  }
 },
 "nbformat": 4,
 "nbformat_minor": 2
}
